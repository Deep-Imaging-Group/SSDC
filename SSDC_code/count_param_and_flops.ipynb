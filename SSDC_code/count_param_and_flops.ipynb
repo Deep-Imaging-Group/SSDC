{
 "cells": [
  {
   "cell_type": "code",
   "execution_count": null,
   "metadata": {},
   "outputs": [],
   "source": [
    "import tensorflow as tf\n",
    "import input_data\n",
    "import os\n",
    "import numpy as np\n",
    "from tensorflow.python.framework import graph_util\n",
    "from tensorflow.python.profiler import option_builder\n",
    "from tensorflow.python.profiler import model_analyzer\n",
    "#import SSDC_Densenet as model\n",
    "import model_test_3d as model\n",
    "#import fdssc as model"
   ]
  },
  {
   "cell_type": "code",
   "execution_count": null,
   "metadata": {},
   "outputs": [],
   "source": [
    "def load_pb(pb):\n",
    "    with tf.gfile.GFile(pb, \"rb\") as f:\n",
    "        graph_def = tf.GraphDef()\n",
    "        graph_def.ParseFromString(f.read())\n",
    "        # fix nodes\n",
    "        for node in graph_def.node:\n",
    "            if node.op == 'RefSwitch':\n",
    "                node.op = 'Switch'\n",
    "                for index in xrange(len(node.input)):\n",
    "                    if 'moving_' in node.input[index]:\n",
    "                        node.input[index] = node.input[index] + '/read'\n",
    "            elif node.op == 'AssignSub':\n",
    "                node.op = 'Sub'\n",
    "                if 'use_locking' in node.attr: del node.attr['use_locking']\n",
    "\n",
    "    with tf.Graph().as_default() as graph:\n",
    "        tf.import_graph_def(graph_def, name='')\n",
    "        return graph"
   ]
  },
  {
   "cell_type": "code",
   "execution_count": null,
   "metadata": {},
   "outputs": [],
   "source": [
    "def stats_graph(graph):\n",
    "\n",
    "    # Count param\n",
    "    param_opts = tf.profiler.ProfileOptionBuilder(tf.profiler.ProfileOptionBuilder.trainable_variables_parameter())\n",
    "    #param_opts.with_max_depth(4)\n",
    "    param_opts.order_by('occurrence')\n",
    "    param_stats = tf.profiler.profile(graph, options=param_opts.build(), cmd='scope')\n",
    "    print('Trainable params: ', param_stats.total_parameters)\n",
    "    for x in param_stats.children:\n",
    "        print(x.name, 'scope trainable params: ', x.total_parameters)\n",
    "    \n",
    "    # Count FLOPs\n",
    "    float_opts = tf.profiler.ProfileOptionBuilder(tf.profiler.ProfileOptionBuilder.float_operation())\n",
    "    #float_opts.with_max_depth(4)\n",
    "    #float_opts.order_by('name')\n",
    "    float_stats = tf.profiler.profile(graph, options=float_opts.build(), cmd='op')\n",
    "    print('Total FLOPs: ', float_stats.total_float_ops)\n",
    "    for x in float_stats.children:\n",
    "        print(x.name, 'scope FLOPs: ', x.total_float_ops)\n",
    "\n"
   ]
  },
  {
   "cell_type": "code",
   "execution_count": null,
   "metadata": {},
   "outputs": [],
   "source": [
    "os.environ[\"CUDA_VISIBLE_DEVICES\"] = \"-1\"\n",
    "with tf.Graph().as_default() as graph:\n",
    "    # ***** (1) Create Graph *****\n",
    "#     A = tf.Variable(initial_value=tf.random_normal([25, 16]))\n",
    "#     B = tf.Variable(initial_value=tf.random_normal([16, 9]))\n",
    "#     C = tf.matmul(A, B, name='output')\n",
    "    images = tf.Variable(initial_value = tf.random_normal([32,7*7*200]))\n",
    "    output = model.inference(images, tf.cast(True, tf.bool))\n",
    "    \n",
    "    print('stats before freezing')\n",
    "    stats_graph(graph)\n",
    "    with tf.Session() as sess:\n",
    "        sess.run(tf.global_variables_initializer())\n",
    "        # ***** (2) freeze graph *****\n",
    "        output_graph = graph_util.convert_variables_to_constants(sess, graph.as_graph_def(), ['Block3/fc/fc/output']) #'fc/output' #'Block3/fc/fc/output'\n",
    "        with tf.gfile.GFile('graph.pb', \"wb\") as f:\n",
    "            f.write(output_graph.SerializeToString())"
   ]
  },
  {
   "cell_type": "code",
   "execution_count": null,
   "metadata": {},
   "outputs": [],
   "source": [
    "# ***** (3) Load frozen graph *****\n",
    "graph = load_pb('./graph.pb')\n",
    "print('stats after freezing')\n",
    "stats_graph(graph)"
   ]
  },
  {
   "cell_type": "code",
   "execution_count": null,
   "metadata": {},
   "outputs": [],
   "source": []
  }
 ],
 "metadata": {
  "kernelspec": {
   "display_name": "Python 3",
   "language": "python",
   "name": "python3"
  },
  "language_info": {
   "codemirror_mode": {
    "name": "ipython",
    "version": 3
   },
   "file_extension": ".py",
   "mimetype": "text/x-python",
   "name": "python",
   "nbconvert_exporter": "python",
   "pygments_lexer": "ipython3",
   "version": "3.6.4"
  }
 },
 "nbformat": 4,
 "nbformat_minor": 2
}
